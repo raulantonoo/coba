{
  "nbformat": 4,
  "nbformat_minor": 0,
  "metadata": {
    "colab": {
      "name": "DataMining.ipynb",
      "provenance": [],
      "authorship_tag": "ABX9TyMWk3l2VVj1To8kXepy5Opl",
      "include_colab_link": true
    },
    "kernelspec": {
      "name": "python3",
      "display_name": "Python 3"
    },
    "language_info": {
      "name": "python"
    }
  },
  "cells": [
    {
      "cell_type": "markdown",
      "metadata": {
        "id": "view-in-github",
        "colab_type": "text"
      },
      "source": [
        "<a href=\"https://colab.research.google.com/github/raulantonoo/coba/blob/main/DataMining.ipynb\" target=\"_parent\"><img src=\"https://colab.research.google.com/assets/colab-badge.svg\" alt=\"Open In Colab\"/></a>"
      ]
    },
    {
      "cell_type": "code",
      "metadata": {
        "id": "S7Wxl0zVOggD"
      },
      "source": [
        "import numpy as np\n",
        "import matplotlib.pyplot as plt\n",
        "import pandas as pd"
      ],
      "execution_count": null,
      "outputs": []
    },
    {
      "cell_type": "code",
      "metadata": {
        "id": "AI0R_Ze6PC3u"
      },
      "source": [
        "dataset = pd.read_csv('Buku.csv')\n",
        "x = dataset.iloc[:, :-1].values\n",
        "y = dataset.iloc[:, -1].values"
      ],
      "execution_count": null,
      "outputs": []
    },
    {
      "cell_type": "code",
      "metadata": {
        "colab": {
          "base_uri": "https://localhost:8080/"
        },
        "id": "qLkRKpK3P2m9",
        "outputId": "4e9e5eea-097f-4b60-a038-363fc8b3a416"
      },
      "source": [
        "print(x)"
      ],
      "execution_count": null,
      "outputs": [
        {
          "output_type": "stream",
          "text": [
            "[['Semarang' 120.0 nan]\n",
            " ['Surabaya' 140.0 21000000.0]\n",
            " ['Bekasi' 130.0 31000000.0]\n",
            " ['Bandung' nan 61000000.0]\n",
            " ['Kalimantan' 140.0 21000000.0]\n",
            " ['Sumatra' 135.0 58000000.0]]\n"
          ],
          "name": "stdout"
        }
      ]
    },
    {
      "cell_type": "code",
      "metadata": {
        "colab": {
          "base_uri": "https://localhost:8080/"
        },
        "id": "gPW56L_nRACo",
        "outputId": "3537bb1e-2c3f-4c5f-dc9e-5d1ed77cc8ad"
      },
      "source": [
        "print(y)"
      ],
      "execution_count": null,
      "outputs": [
        {
          "output_type": "stream",
          "text": [
            "['Tidak' 'Ya' 'Tidak' 'Tidak' 'Ya' 'Ya']\n"
          ],
          "name": "stdout"
        }
      ]
    },
    {
      "cell_type": "code",
      "metadata": {
        "id": "eQWd3ayARBRZ"
      },
      "source": [
        "from sklearn.impute import SimpleImputer\n",
        "imputer = SimpleImputer(missing_values=np.nan, strategy='mean')\n",
        "imputer.fit(x[:, 1:3])\n",
        "x[:, 1:3] = imputer.transform(x[:, 1:3])"
      ],
      "execution_count": null,
      "outputs": []
    },
    {
      "cell_type": "code",
      "metadata": {
        "colab": {
          "base_uri": "https://localhost:8080/"
        },
        "id": "DoA_p4c9RHnh",
        "outputId": "6970e8d7-ec1b-466b-c2a2-5d1f0adc7241"
      },
      "source": [
        "print(x)"
      ],
      "execution_count": null,
      "outputs": [
        {
          "output_type": "stream",
          "text": [
            "[['Semarang' 120.0 38400000.0]\n",
            " ['Surabaya' 140.0 21000000.0]\n",
            " ['Bekasi' 130.0 31000000.0]\n",
            " ['Bandung' 133.0 61000000.0]\n",
            " ['Kalimantan' 140.0 21000000.0]\n",
            " ['Sumatra' 135.0 58000000.0]]\n"
          ],
          "name": "stdout"
        }
      ]
    },
    {
      "cell_type": "code",
      "metadata": {
        "id": "X2kfzXwcRNWB"
      },
      "source": [
        "from sklearn.compose import ColumnTransformer\n",
        "from sklearn.preprocessing import OneHotEncoder\n",
        "ct = ColumnTransformer(transformers=[('encoder', OneHotEncoder(), [0])], remainder = 'passthrough')\n",
        "x = np.array(ct.fit_transform(x))"
      ],
      "execution_count": null,
      "outputs": []
    },
    {
      "cell_type": "code",
      "metadata": {
        "colab": {
          "base_uri": "https://localhost:8080/"
        },
        "id": "enmnNQZPRR7C",
        "outputId": "93ae35c7-01e4-4755-b196-3e55bf7d7c52"
      },
      "source": [
        "print(x)"
      ],
      "execution_count": null,
      "outputs": [
        {
          "output_type": "stream",
          "text": [
            "[[0.0 0.0 0.0 1.0 0.0 0.0 120.0 38400000.0]\n",
            " [0.0 0.0 0.0 0.0 0.0 1.0 140.0 21000000.0]\n",
            " [0.0 1.0 0.0 0.0 0.0 0.0 130.0 31000000.0]\n",
            " [1.0 0.0 0.0 0.0 0.0 0.0 133.0 61000000.0]\n",
            " [0.0 0.0 1.0 0.0 0.0 0.0 140.0 21000000.0]\n",
            " [0.0 0.0 0.0 0.0 1.0 0.0 135.0 58000000.0]]\n"
          ],
          "name": "stdout"
        }
      ]
    },
    {
      "cell_type": "code",
      "metadata": {
        "colab": {
          "base_uri": "https://localhost:8080/"
        },
        "id": "2yUaGcgwRVbI",
        "outputId": "7662eb28-4d9e-455b-9856-41ebfb20e1e1"
      },
      "source": [
        "print(y)"
      ],
      "execution_count": null,
      "outputs": [
        {
          "output_type": "stream",
          "text": [
            "['Tidak' 'Ya' 'Tidak' 'Tidak' 'Ya' 'Ya']\n"
          ],
          "name": "stdout"
        }
      ]
    },
    {
      "cell_type": "code",
      "metadata": {
        "id": "Hski27YYRYTy"
      },
      "source": [
        "from sklearn.preprocessing import LabelEncoder\n",
        "le = LabelEncoder()\n",
        "y = le.fit_transform(y)"
      ],
      "execution_count": null,
      "outputs": []
    },
    {
      "cell_type": "code",
      "metadata": {
        "colab": {
          "base_uri": "https://localhost:8080/"
        },
        "id": "MB7a9RiKRaxr",
        "outputId": "55a23f79-f567-4a6b-82f9-f41e8e412d50"
      },
      "source": [
        "print(y)"
      ],
      "execution_count": null,
      "outputs": [
        {
          "output_type": "stream",
          "text": [
            "[0 1 0 0 1 1]\n"
          ],
          "name": "stdout"
        }
      ]
    },
    {
      "cell_type": "code",
      "metadata": {
        "id": "1vgXXAo6Rdgm"
      },
      "source": [
        "from sklearn.model_selection import train_test_split\n",
        "x_train, x_test, y_train, y_test = train_test_split(x, y, test_size=0.2, random_state=1)"
      ],
      "execution_count": null,
      "outputs": []
    },
    {
      "cell_type": "code",
      "metadata": {
        "colab": {
          "base_uri": "https://localhost:8080/"
        },
        "id": "GygeShn2RgOR",
        "outputId": "e8478181-0b60-4117-ec90-39077c9c1fb0"
      },
      "source": [
        "print(x_train)"
      ],
      "execution_count": null,
      "outputs": [
        {
          "output_type": "stream",
          "text": [
            "[[0.0 0.0 1.0 0.0 0.0 0.0 140.0 21000000.0]\n",
            " [0.0 0.0 0.0 1.0 0.0 0.0 120.0 38400000.0]\n",
            " [1.0 0.0 0.0 0.0 0.0 0.0 133.0 61000000.0]\n",
            " [0.0 0.0 0.0 0.0 1.0 0.0 135.0 58000000.0]]\n"
          ],
          "name": "stdout"
        }
      ]
    },
    {
      "cell_type": "code",
      "metadata": {
        "colab": {
          "base_uri": "https://localhost:8080/"
        },
        "id": "gJDjKMYpRizw",
        "outputId": "0de21551-b4a8-491a-9320-94d42f60aaa5"
      },
      "source": [
        "print(x_test)"
      ],
      "execution_count": null,
      "outputs": [
        {
          "output_type": "stream",
          "text": [
            "[[0.0 1.0 0.0 0.0 0.0 0.0 130.0 31000000.0]\n",
            " [0.0 0.0 0.0 0.0 0.0 1.0 140.0 21000000.0]]\n"
          ],
          "name": "stdout"
        }
      ]
    },
    {
      "cell_type": "code",
      "metadata": {
        "colab": {
          "base_uri": "https://localhost:8080/"
        },
        "id": "VxiwOaJBRoYm",
        "outputId": "6875d05c-842d-465a-fb70-f4d449dca5df"
      },
      "source": [
        "print(y_train)"
      ],
      "execution_count": null,
      "outputs": [
        {
          "output_type": "stream",
          "text": [
            "[1 0 0 1]\n"
          ],
          "name": "stdout"
        }
      ]
    },
    {
      "cell_type": "code",
      "metadata": {
        "colab": {
          "base_uri": "https://localhost:8080/"
        },
        "id": "u__ojb96Rq4h",
        "outputId": "b062348d-7d65-49e8-ca61-fa8b12dead2f"
      },
      "source": [
        "print(y_test)"
      ],
      "execution_count": null,
      "outputs": [
        {
          "output_type": "stream",
          "text": [
            "[0 1]\n"
          ],
          "name": "stdout"
        }
      ]
    },
    {
      "cell_type": "code",
      "metadata": {
        "id": "2YsqMGQTRtBn"
      },
      "source": [
        "from sklearn.preprocessing import StandardScaler\n",
        "sc = StandardScaler()\n",
        "x_train[:, 3:] = sc.fit_transform(x_train[:, 3:])\n",
        "x_test[:, 3:] = sc.transform(x_test[:, 3:])"
      ],
      "execution_count": null,
      "outputs": []
    },
    {
      "cell_type": "code",
      "metadata": {
        "colab": {
          "base_uri": "https://localhost:8080/"
        },
        "id": "ay97r-DrRvJn",
        "outputId": "4f717bf1-6946-4e8f-c99d-8a395498a4f3"
      },
      "source": [
        "print(x_train)"
      ],
      "execution_count": null,
      "outputs": [
        {
          "output_type": "stream",
          "text": [
            "[[0.0 0.0 1.0 -0.5773502691896258 -0.5773502691896258 0.0\n",
            "  1.0836567383657543 -1.4608592996857799]\n",
            " [0.0 0.0 0.0 1.7320508075688774 -0.5773502691896258 0.0\n",
            "  -1.6254851075486312 -0.3837850702564337]\n",
            " [1.0 0.0 0.0 -0.5773502691896258 -0.5773502691896258 0.0\n",
            "  0.13545709229571928 1.0151734116460505]\n",
            " [0.0 0.0 0.0 -0.5773502691896258 1.7320508075688774 0.0\n",
            "  0.4063712768871578 0.8294709582961632]]\n"
          ],
          "name": "stdout"
        }
      ]
    },
    {
      "cell_type": "code",
      "metadata": {
        "colab": {
          "base_uri": "https://localhost:8080/"
        },
        "id": "HvSL0ZzURy6B",
        "outputId": "64caa897-0c67-4d40-92ee-8e2a61c796f7"
      },
      "source": [
        "print(x_test)"
      ],
      "execution_count": null,
      "outputs": [
        {
          "output_type": "stream",
          "text": [
            "[[0.0 1.0 0.0 -0.5773502691896258 -0.5773502691896258 0.0\n",
            "  -0.27091418459143857 -0.8418511218528224]\n",
            " [0.0 0.0 0.0 -0.5773502691896258 -0.5773502691896258 1.0\n",
            "  1.0836567383657543 -1.4608592996857799]]\n"
          ],
          "name": "stdout"
        }
      ]
    }
  ]
}